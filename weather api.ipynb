{
 "cells": [
  {
   "cell_type": "markdown",
   "id": "fdb0193c",
   "metadata": {},
   "source": [
    "# Shaymaa Hassan Aly"
   ]
  },
  {
   "cell_type": "code",
   "execution_count": 1,
   "id": "fa443f5d",
   "metadata": {},
   "outputs": [],
   "source": [
    "import requests"
   ]
  },
  {
   "cell_type": "code",
   "execution_count": 2,
   "id": "70058ed5",
   "metadata": {},
   "outputs": [],
   "source": [
    "response= requests.get('https://www.metaweather.com/api/location/1521894/')"
   ]
  },
  {
   "cell_type": "code",
   "execution_count": 3,
   "id": "0a32ff09",
   "metadata": {},
   "outputs": [],
   "source": [
    "data= response.json()"
   ]
  },
  {
   "cell_type": "code",
   "execution_count": 4,
   "id": "e5820576",
   "metadata": {},
   "outputs": [
    {
     "data": {
      "text/plain": [
       "dict_items([('consolidated_weather', [{'id': 6000104822538240, 'weather_state_name': 'Heavy Cloud', 'weather_state_abbr': 'hc', 'wind_direction_compass': 'NNE', 'created': '2021-12-11T22:34:26.157179Z', 'applicable_date': '2021-12-12', 'min_temp': 13.575, 'max_temp': 23.775, 'the_temp': 22.3, 'wind_speed': 3.3251594059466054, 'wind_direction': 23.0, 'air_pressure': 1018.0, 'humidity': 54, 'visibility': 12.90059800763541, 'predictability': 71}, {'id': 5770723948756992, 'weather_state_name': 'Heavy Cloud', 'weather_state_abbr': 'hc', 'wind_direction_compass': 'NNW', 'created': '2021-12-11T22:34:28.723928Z', 'applicable_date': '2021-12-13', 'min_temp': 14.690000000000001, 'max_temp': 23.8, 'the_temp': 21.955, 'wind_speed': 4.623199591436676, 'wind_direction': 347.5, 'air_pressure': 1017.5, 'humidity': 63, 'visibility': 12.915821601845224, 'predictability': 71}, {'id': 5364974454046720, 'weather_state_name': 'Light Cloud', 'weather_state_abbr': 'lc', 'wind_direction_compass': 'WNW', 'created': '2021-12-11T22:34:31.668031Z', 'applicable_date': '2021-12-14', 'min_temp': 14.365, 'max_temp': 21.854999999999997, 'the_temp': 20.575, 'wind_speed': 6.593909821935895, 'wind_direction': 296.49832150482393, 'air_pressure': 1014.5, 'humidity': 51, 'visibility': 13.318780820011135, 'predictability': 70}, {'id': 5288883605471232, 'weather_state_name': 'Clear', 'weather_state_abbr': 'c', 'wind_direction_compass': 'W', 'created': '2021-12-11T22:34:35.075539Z', 'applicable_date': '2021-12-15', 'min_temp': 12.225000000000001, 'max_temp': 20.009999999999998, 'the_temp': 18.465, 'wind_speed': 8.248414413186989, 'wind_direction': 258.84021917831467, 'air_pressure': 1016.0, 'humidity': 49, 'visibility': 13.466356478167501, 'predictability': 68}, {'id': 6151055072034816, 'weather_state_name': 'Heavy Cloud', 'weather_state_abbr': 'hc', 'wind_direction_compass': 'WNW', 'created': '2021-12-11T22:34:37.555338Z', 'applicable_date': '2021-12-16', 'min_temp': 12.315, 'max_temp': 19.875, 'the_temp': 17.46, 'wind_speed': 4.837906028791856, 'wind_direction': 294.5, 'air_pressure': 1020.0, 'humidity': 62, 'visibility': 9.999726596675416, 'predictability': 71}, {'id': 5364832359415808, 'weather_state_name': 'Heavy Cloud', 'weather_state_abbr': 'hc', 'wind_direction_compass': 'W', 'created': '2021-12-11T22:34:41.445862Z', 'applicable_date': '2021-12-17', 'min_temp': 11.89, 'max_temp': 19.35, 'the_temp': 16.96, 'wind_speed': 4.528619462339935, 'wind_direction': 272.5, 'air_pressure': 1022.0, 'humidity': 58, 'visibility': 9.999726596675416, 'predictability': 71}]), ('time', '2021-12-12T00:41:17.968632+02:00'), ('sun_rise', '2021-12-12T06:41:28.108776+02:00'), ('sun_set', '2021-12-12T16:55:59.155970+02:00'), ('timezone_name', 'LMT'), ('parent', {'title': 'Egypt', 'location_type': 'Country', 'woeid': 23424802, 'latt_long': '26.837090,30.796391'}), ('sources', [{'title': 'BBC', 'slug': 'bbc', 'url': 'http://www.bbc.co.uk/weather/', 'crawl_rate': 360}, {'title': 'Forecast.io', 'slug': 'forecast-io', 'url': 'http://forecast.io/', 'crawl_rate': 480}, {'title': 'HAMweather', 'slug': 'hamweather', 'url': 'http://www.hamweather.com/', 'crawl_rate': 360}, {'title': 'Met Office', 'slug': 'met-office', 'url': 'http://www.metoffice.gov.uk/', 'crawl_rate': 180}, {'title': 'OpenWeatherMap', 'slug': 'openweathermap', 'url': 'http://openweathermap.org/', 'crawl_rate': 360}, {'title': 'Weather Underground', 'slug': 'wunderground', 'url': 'https://www.wunderground.com/?apiref=fc30dc3cd224e19b', 'crawl_rate': 720}, {'title': 'World Weather Online', 'slug': 'world-weather-online', 'url': 'http://www.worldweatheronline.com/', 'crawl_rate': 360}]), ('title', 'Cairo'), ('location_type', 'City'), ('woeid', 1521894), ('latt_long', '30.049950,31.248600'), ('timezone', 'Africa/Cairo')])"
      ]
     },
     "execution_count": 4,
     "metadata": {},
     "output_type": "execute_result"
    }
   ],
   "source": [
    "data.items()"
   ]
  },
  {
   "cell_type": "code",
   "execution_count": 5,
   "id": "44ee9ac0",
   "metadata": {},
   "outputs": [
    {
     "data": {
      "text/plain": [
       "dict_keys(['consolidated_weather', 'time', 'sun_rise', 'sun_set', 'timezone_name', 'parent', 'sources', 'title', 'location_type', 'woeid', 'latt_long', 'timezone'])"
      ]
     },
     "execution_count": 5,
     "metadata": {},
     "output_type": "execute_result"
    }
   ],
   "source": [
    "data.keys()"
   ]
  },
  {
   "cell_type": "code",
   "execution_count": 6,
   "id": "5b2851fe",
   "metadata": {},
   "outputs": [
    {
     "data": {
      "text/plain": [
       "[{'id': 6000104822538240,\n",
       "  'weather_state_name': 'Heavy Cloud',\n",
       "  'weather_state_abbr': 'hc',\n",
       "  'wind_direction_compass': 'NNE',\n",
       "  'created': '2021-12-11T22:34:26.157179Z',\n",
       "  'applicable_date': '2021-12-12',\n",
       "  'min_temp': 13.575,\n",
       "  'max_temp': 23.775,\n",
       "  'the_temp': 22.3,\n",
       "  'wind_speed': 3.3251594059466054,\n",
       "  'wind_direction': 23.0,\n",
       "  'air_pressure': 1018.0,\n",
       "  'humidity': 54,\n",
       "  'visibility': 12.90059800763541,\n",
       "  'predictability': 71},\n",
       " {'id': 5770723948756992,\n",
       "  'weather_state_name': 'Heavy Cloud',\n",
       "  'weather_state_abbr': 'hc',\n",
       "  'wind_direction_compass': 'NNW',\n",
       "  'created': '2021-12-11T22:34:28.723928Z',\n",
       "  'applicable_date': '2021-12-13',\n",
       "  'min_temp': 14.690000000000001,\n",
       "  'max_temp': 23.8,\n",
       "  'the_temp': 21.955,\n",
       "  'wind_speed': 4.623199591436676,\n",
       "  'wind_direction': 347.5,\n",
       "  'air_pressure': 1017.5,\n",
       "  'humidity': 63,\n",
       "  'visibility': 12.915821601845224,\n",
       "  'predictability': 71},\n",
       " {'id': 5364974454046720,\n",
       "  'weather_state_name': 'Light Cloud',\n",
       "  'weather_state_abbr': 'lc',\n",
       "  'wind_direction_compass': 'WNW',\n",
       "  'created': '2021-12-11T22:34:31.668031Z',\n",
       "  'applicable_date': '2021-12-14',\n",
       "  'min_temp': 14.365,\n",
       "  'max_temp': 21.854999999999997,\n",
       "  'the_temp': 20.575,\n",
       "  'wind_speed': 6.593909821935895,\n",
       "  'wind_direction': 296.49832150482393,\n",
       "  'air_pressure': 1014.5,\n",
       "  'humidity': 51,\n",
       "  'visibility': 13.318780820011135,\n",
       "  'predictability': 70},\n",
       " {'id': 5288883605471232,\n",
       "  'weather_state_name': 'Clear',\n",
       "  'weather_state_abbr': 'c',\n",
       "  'wind_direction_compass': 'W',\n",
       "  'created': '2021-12-11T22:34:35.075539Z',\n",
       "  'applicable_date': '2021-12-15',\n",
       "  'min_temp': 12.225000000000001,\n",
       "  'max_temp': 20.009999999999998,\n",
       "  'the_temp': 18.465,\n",
       "  'wind_speed': 8.248414413186989,\n",
       "  'wind_direction': 258.84021917831467,\n",
       "  'air_pressure': 1016.0,\n",
       "  'humidity': 49,\n",
       "  'visibility': 13.466356478167501,\n",
       "  'predictability': 68},\n",
       " {'id': 6151055072034816,\n",
       "  'weather_state_name': 'Heavy Cloud',\n",
       "  'weather_state_abbr': 'hc',\n",
       "  'wind_direction_compass': 'WNW',\n",
       "  'created': '2021-12-11T22:34:37.555338Z',\n",
       "  'applicable_date': '2021-12-16',\n",
       "  'min_temp': 12.315,\n",
       "  'max_temp': 19.875,\n",
       "  'the_temp': 17.46,\n",
       "  'wind_speed': 4.837906028791856,\n",
       "  'wind_direction': 294.5,\n",
       "  'air_pressure': 1020.0,\n",
       "  'humidity': 62,\n",
       "  'visibility': 9.999726596675416,\n",
       "  'predictability': 71},\n",
       " {'id': 5364832359415808,\n",
       "  'weather_state_name': 'Heavy Cloud',\n",
       "  'weather_state_abbr': 'hc',\n",
       "  'wind_direction_compass': 'W',\n",
       "  'created': '2021-12-11T22:34:41.445862Z',\n",
       "  'applicable_date': '2021-12-17',\n",
       "  'min_temp': 11.89,\n",
       "  'max_temp': 19.35,\n",
       "  'the_temp': 16.96,\n",
       "  'wind_speed': 4.528619462339935,\n",
       "  'wind_direction': 272.5,\n",
       "  'air_pressure': 1022.0,\n",
       "  'humidity': 58,\n",
       "  'visibility': 9.999726596675416,\n",
       "  'predictability': 71}]"
      ]
     },
     "execution_count": 6,
     "metadata": {},
     "output_type": "execute_result"
    }
   ],
   "source": [
    "data['consolidated_weather']"
   ]
  },
  {
   "cell_type": "code",
   "execution_count": 7,
   "id": "79d901c5",
   "metadata": {},
   "outputs": [
    {
     "data": {
      "text/plain": [
       "{'id': 5770723948756992,\n",
       " 'weather_state_name': 'Heavy Cloud',\n",
       " 'weather_state_abbr': 'hc',\n",
       " 'wind_direction_compass': 'NNW',\n",
       " 'created': '2021-12-11T22:34:28.723928Z',\n",
       " 'applicable_date': '2021-12-13',\n",
       " 'min_temp': 14.690000000000001,\n",
       " 'max_temp': 23.8,\n",
       " 'the_temp': 21.955,\n",
       " 'wind_speed': 4.623199591436676,\n",
       " 'wind_direction': 347.5,\n",
       " 'air_pressure': 1017.5,\n",
       " 'humidity': 63,\n",
       " 'visibility': 12.915821601845224,\n",
       " 'predictability': 71}"
      ]
     },
     "execution_count": 7,
     "metadata": {},
     "output_type": "execute_result"
    }
   ],
   "source": [
    "data['consolidated_weather'][1]"
   ]
  },
  {
   "cell_type": "code",
   "execution_count": 8,
   "id": "f934fbba",
   "metadata": {},
   "outputs": [
    {
     "data": {
      "text/plain": [
       "'2021-12-12T00:41:17.968632+02:00'"
      ]
     },
     "execution_count": 8,
     "metadata": {},
     "output_type": "execute_result"
    }
   ],
   "source": [
    "data['time']"
   ]
  },
  {
   "cell_type": "markdown",
   "id": "68327a9c",
   "metadata": {},
   "source": [
    "get the weather temperature, humidity, visibility, air pressure, wind speed & datetime and save each day data in a CSV & Excel file."
   ]
  },
  {
   "cell_type": "code",
   "execution_count": 9,
   "id": "38b0b6f9",
   "metadata": {},
   "outputs": [],
   "source": [
    "import csv\n",
    "with open('weather.csv','w',newline='') as f:\n",
    "    writer = csv.DictWriter(f,fieldnames=['Temp','humidity','visibility','air_pressure','wind_speed','datetime'])\n",
    "    writer.writeheader()\n",
    "    for i in range(3,len(data['consolidated_weather'])):\n",
    "        temp = data['consolidated_weather'][i]['the_temp']\n",
    "        humidity = data['consolidated_weather'][i]['humidity']\n",
    "        visibility = data['consolidated_weather'][i]['visibility']\n",
    "        air_pressure = data['consolidated_weather'][i]['air_pressure']\n",
    "        wind_speed = data['consolidated_weather'][i]['wind_speed']\n",
    "        datetime = data['consolidated_weather'][i]['applicable_date']\n",
    "        writer.writerow({\n",
    "            'Temp':temp,\n",
    "            'humidity':humidity,\n",
    "            'visibility':visibility,\n",
    "            'air_pressure':air_pressure,\n",
    "            'wind_speed':wind_speed,\n",
    "            'datetime':datetime\n",
    "        })\n"
   ]
  },
  {
   "cell_type": "code",
   "execution_count": 1,
   "id": "c5171129",
   "metadata": {},
   "outputs": [],
   "source": [
    "import pandas as pd"
   ]
  },
  {
   "cell_type": "code",
   "execution_count": 3,
   "id": "ecb13653",
   "metadata": {},
   "outputs": [],
   "source": [
    "df= pd.read_csv('weather.csv')"
   ]
  },
  {
   "cell_type": "code",
   "execution_count": 4,
   "id": "ada3b226",
   "metadata": {},
   "outputs": [
    {
     "data": {
      "text/html": [
       "<div>\n",
       "<style scoped>\n",
       "    .dataframe tbody tr th:only-of-type {\n",
       "        vertical-align: middle;\n",
       "    }\n",
       "\n",
       "    .dataframe tbody tr th {\n",
       "        vertical-align: top;\n",
       "    }\n",
       "\n",
       "    .dataframe thead th {\n",
       "        text-align: right;\n",
       "    }\n",
       "</style>\n",
       "<table border=\"1\" class=\"dataframe\">\n",
       "  <thead>\n",
       "    <tr style=\"text-align: right;\">\n",
       "      <th></th>\n",
       "      <th>Temp</th>\n",
       "      <th>humidity</th>\n",
       "      <th>visibility</th>\n",
       "      <th>air_pressure</th>\n",
       "      <th>wind_speed</th>\n",
       "      <th>datetime</th>\n",
       "    </tr>\n",
       "  </thead>\n",
       "  <tbody>\n",
       "    <tr>\n",
       "      <th>0</th>\n",
       "      <td>18.465</td>\n",
       "      <td>49</td>\n",
       "      <td>13.466356</td>\n",
       "      <td>1016.0</td>\n",
       "      <td>8.248414</td>\n",
       "      <td>2021-12-15</td>\n",
       "    </tr>\n",
       "    <tr>\n",
       "      <th>1</th>\n",
       "      <td>17.460</td>\n",
       "      <td>62</td>\n",
       "      <td>9.999727</td>\n",
       "      <td>1020.0</td>\n",
       "      <td>4.837906</td>\n",
       "      <td>2021-12-16</td>\n",
       "    </tr>\n",
       "    <tr>\n",
       "      <th>2</th>\n",
       "      <td>16.960</td>\n",
       "      <td>58</td>\n",
       "      <td>9.999727</td>\n",
       "      <td>1022.0</td>\n",
       "      <td>4.528619</td>\n",
       "      <td>2021-12-17</td>\n",
       "    </tr>\n",
       "  </tbody>\n",
       "</table>\n",
       "</div>"
      ],
      "text/plain": [
       "     Temp  humidity  visibility  air_pressure  wind_speed    datetime\n",
       "0  18.465        49   13.466356        1016.0    8.248414  2021-12-15\n",
       "1  17.460        62    9.999727        1020.0    4.837906  2021-12-16\n",
       "2  16.960        58    9.999727        1022.0    4.528619  2021-12-17"
      ]
     },
     "execution_count": 4,
     "metadata": {},
     "output_type": "execute_result"
    }
   ],
   "source": [
    "df"
   ]
  },
  {
   "cell_type": "code",
   "execution_count": null,
   "id": "f6a5a74b",
   "metadata": {},
   "outputs": [],
   "source": []
  }
 ],
 "metadata": {
  "kernelspec": {
   "display_name": "Python 3",
   "language": "python",
   "name": "python3"
  },
  "language_info": {
   "codemirror_mode": {
    "name": "ipython",
    "version": 3
   },
   "file_extension": ".py",
   "mimetype": "text/x-python",
   "name": "python",
   "nbconvert_exporter": "python",
   "pygments_lexer": "ipython3",
   "version": "3.8.8"
  }
 },
 "nbformat": 4,
 "nbformat_minor": 5
}
